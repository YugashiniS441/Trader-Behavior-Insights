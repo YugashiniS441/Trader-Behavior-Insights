{
 "cells": [
  {
   "cell_type": "code",
   "execution_count": 3,
   "id": "80fba0ff",
   "metadata": {},
   "outputs": [],
   "source": [
    "import pandas as pd\n",
    "import matplotlib.pyplot as plt\n",
    "\n",
    "# 1. Load datasets (change file paths)\n",
    "sentiment = pd.read_csv(r\"C:\\Users\\dell\\Downloads\\fear_greed_index.csv\", parse_dates=[\"date\"])  # Date, Classification\n",
    "trades = pd.read_csv(r\"C:\\Users\\dell\\Downloads\\historical_data.csv\", parse_dates=[\"Timestamp IST\"])  "
   ]
  },
  {
   "cell_type": "code",
   "execution_count": 10,
   "id": "aa35c360",
   "metadata": {},
   "outputs": [
    {
     "data": {
      "text/html": [
       "<div>\n",
       "<style scoped>\n",
       "    .dataframe tbody tr th:only-of-type {\n",
       "        vertical-align: middle;\n",
       "    }\n",
       "\n",
       "    .dataframe tbody tr th {\n",
       "        vertical-align: top;\n",
       "    }\n",
       "\n",
       "    .dataframe thead th {\n",
       "        text-align: right;\n",
       "    }\n",
       "</style>\n",
       "<table border=\"1\" class=\"dataframe\">\n",
       "  <thead>\n",
       "    <tr style=\"text-align: right;\">\n",
       "      <th></th>\n",
       "      <th>timestamp</th>\n",
       "      <th>value</th>\n",
       "      <th>classification</th>\n",
       "      <th>date</th>\n",
       "    </tr>\n",
       "  </thead>\n",
       "  <tbody>\n",
       "    <tr>\n",
       "      <th>0</th>\n",
       "      <td>1517463000</td>\n",
       "      <td>30</td>\n",
       "      <td>Fear</td>\n",
       "      <td>2018-02-01</td>\n",
       "    </tr>\n",
       "    <tr>\n",
       "      <th>1</th>\n",
       "      <td>1517549400</td>\n",
       "      <td>15</td>\n",
       "      <td>Extreme Fear</td>\n",
       "      <td>2018-02-02</td>\n",
       "    </tr>\n",
       "    <tr>\n",
       "      <th>2</th>\n",
       "      <td>1517635800</td>\n",
       "      <td>40</td>\n",
       "      <td>Fear</td>\n",
       "      <td>2018-02-03</td>\n",
       "    </tr>\n",
       "    <tr>\n",
       "      <th>3</th>\n",
       "      <td>1517722200</td>\n",
       "      <td>24</td>\n",
       "      <td>Extreme Fear</td>\n",
       "      <td>2018-02-04</td>\n",
       "    </tr>\n",
       "    <tr>\n",
       "      <th>4</th>\n",
       "      <td>1517808600</td>\n",
       "      <td>11</td>\n",
       "      <td>Extreme Fear</td>\n",
       "      <td>2018-02-05</td>\n",
       "    </tr>\n",
       "  </tbody>\n",
       "</table>\n",
       "</div>"
      ],
      "text/plain": [
       "    timestamp  value classification       date\n",
       "0  1517463000     30           Fear 2018-02-01\n",
       "1  1517549400     15   Extreme Fear 2018-02-02\n",
       "2  1517635800     40           Fear 2018-02-03\n",
       "3  1517722200     24   Extreme Fear 2018-02-04\n",
       "4  1517808600     11   Extreme Fear 2018-02-05"
      ]
     },
     "execution_count": 10,
     "metadata": {},
     "output_type": "execute_result"
    }
   ],
   "source": [
    "sentiment.head()"
   ]
  },
  {
   "cell_type": "code",
   "execution_count": 5,
   "id": "33e5e764",
   "metadata": {},
   "outputs": [
    {
     "data": {
      "text/html": [
       "<div>\n",
       "<style scoped>\n",
       "    .dataframe tbody tr th:only-of-type {\n",
       "        vertical-align: middle;\n",
       "    }\n",
       "\n",
       "    .dataframe tbody tr th {\n",
       "        vertical-align: top;\n",
       "    }\n",
       "\n",
       "    .dataframe thead th {\n",
       "        text-align: right;\n",
       "    }\n",
       "</style>\n",
       "<table border=\"1\" class=\"dataframe\">\n",
       "  <thead>\n",
       "    <tr style=\"text-align: right;\">\n",
       "      <th></th>\n",
       "      <th>Account</th>\n",
       "      <th>Coin</th>\n",
       "      <th>Execution Price</th>\n",
       "      <th>Size Tokens</th>\n",
       "      <th>Size USD</th>\n",
       "      <th>Side</th>\n",
       "      <th>Timestamp IST</th>\n",
       "      <th>Start Position</th>\n",
       "      <th>Direction</th>\n",
       "      <th>Closed PnL</th>\n",
       "      <th>Transaction Hash</th>\n",
       "      <th>Order ID</th>\n",
       "      <th>Crossed</th>\n",
       "      <th>Fee</th>\n",
       "      <th>Trade ID</th>\n",
       "      <th>Timestamp</th>\n",
       "    </tr>\n",
       "  </thead>\n",
       "  <tbody>\n",
       "    <tr>\n",
       "      <th>0</th>\n",
       "      <td>0xae5eacaf9c6b9111fd53034a602c192a04e082ed</td>\n",
       "      <td>@107</td>\n",
       "      <td>7.9769</td>\n",
       "      <td>986.87</td>\n",
       "      <td>7872.16</td>\n",
       "      <td>BUY</td>\n",
       "      <td>02-12-2024 22:50</td>\n",
       "      <td>0.000000</td>\n",
       "      <td>Buy</td>\n",
       "      <td>0.0</td>\n",
       "      <td>0xec09451986a1874e3a980418412fcd0201f500c95bac...</td>\n",
       "      <td>52017706630</td>\n",
       "      <td>True</td>\n",
       "      <td>0.345404</td>\n",
       "      <td>8.950000e+14</td>\n",
       "      <td>1.730000e+12</td>\n",
       "    </tr>\n",
       "    <tr>\n",
       "      <th>1</th>\n",
       "      <td>0xae5eacaf9c6b9111fd53034a602c192a04e082ed</td>\n",
       "      <td>@107</td>\n",
       "      <td>7.9800</td>\n",
       "      <td>16.00</td>\n",
       "      <td>127.68</td>\n",
       "      <td>BUY</td>\n",
       "      <td>02-12-2024 22:50</td>\n",
       "      <td>986.524596</td>\n",
       "      <td>Buy</td>\n",
       "      <td>0.0</td>\n",
       "      <td>0xec09451986a1874e3a980418412fcd0201f500c95bac...</td>\n",
       "      <td>52017706630</td>\n",
       "      <td>True</td>\n",
       "      <td>0.005600</td>\n",
       "      <td>4.430000e+14</td>\n",
       "      <td>1.730000e+12</td>\n",
       "    </tr>\n",
       "    <tr>\n",
       "      <th>2</th>\n",
       "      <td>0xae5eacaf9c6b9111fd53034a602c192a04e082ed</td>\n",
       "      <td>@107</td>\n",
       "      <td>7.9855</td>\n",
       "      <td>144.09</td>\n",
       "      <td>1150.63</td>\n",
       "      <td>BUY</td>\n",
       "      <td>02-12-2024 22:50</td>\n",
       "      <td>1002.518996</td>\n",
       "      <td>Buy</td>\n",
       "      <td>0.0</td>\n",
       "      <td>0xec09451986a1874e3a980418412fcd0201f500c95bac...</td>\n",
       "      <td>52017706630</td>\n",
       "      <td>True</td>\n",
       "      <td>0.050431</td>\n",
       "      <td>6.600000e+14</td>\n",
       "      <td>1.730000e+12</td>\n",
       "    </tr>\n",
       "    <tr>\n",
       "      <th>3</th>\n",
       "      <td>0xae5eacaf9c6b9111fd53034a602c192a04e082ed</td>\n",
       "      <td>@107</td>\n",
       "      <td>7.9874</td>\n",
       "      <td>142.98</td>\n",
       "      <td>1142.04</td>\n",
       "      <td>BUY</td>\n",
       "      <td>02-12-2024 22:50</td>\n",
       "      <td>1146.558564</td>\n",
       "      <td>Buy</td>\n",
       "      <td>0.0</td>\n",
       "      <td>0xec09451986a1874e3a980418412fcd0201f500c95bac...</td>\n",
       "      <td>52017706630</td>\n",
       "      <td>True</td>\n",
       "      <td>0.050043</td>\n",
       "      <td>1.080000e+15</td>\n",
       "      <td>1.730000e+12</td>\n",
       "    </tr>\n",
       "    <tr>\n",
       "      <th>4</th>\n",
       "      <td>0xae5eacaf9c6b9111fd53034a602c192a04e082ed</td>\n",
       "      <td>@107</td>\n",
       "      <td>7.9894</td>\n",
       "      <td>8.73</td>\n",
       "      <td>69.75</td>\n",
       "      <td>BUY</td>\n",
       "      <td>02-12-2024 22:50</td>\n",
       "      <td>1289.488521</td>\n",
       "      <td>Buy</td>\n",
       "      <td>0.0</td>\n",
       "      <td>0xec09451986a1874e3a980418412fcd0201f500c95bac...</td>\n",
       "      <td>52017706630</td>\n",
       "      <td>True</td>\n",
       "      <td>0.003055</td>\n",
       "      <td>1.050000e+15</td>\n",
       "      <td>1.730000e+12</td>\n",
       "    </tr>\n",
       "  </tbody>\n",
       "</table>\n",
       "</div>"
      ],
      "text/plain": [
       "                                      Account  Coin  Execution Price  \\\n",
       "0  0xae5eacaf9c6b9111fd53034a602c192a04e082ed  @107           7.9769   \n",
       "1  0xae5eacaf9c6b9111fd53034a602c192a04e082ed  @107           7.9800   \n",
       "2  0xae5eacaf9c6b9111fd53034a602c192a04e082ed  @107           7.9855   \n",
       "3  0xae5eacaf9c6b9111fd53034a602c192a04e082ed  @107           7.9874   \n",
       "4  0xae5eacaf9c6b9111fd53034a602c192a04e082ed  @107           7.9894   \n",
       "\n",
       "   Size Tokens  Size USD Side     Timestamp IST  Start Position Direction  \\\n",
       "0       986.87   7872.16  BUY  02-12-2024 22:50        0.000000       Buy   \n",
       "1        16.00    127.68  BUY  02-12-2024 22:50      986.524596       Buy   \n",
       "2       144.09   1150.63  BUY  02-12-2024 22:50     1002.518996       Buy   \n",
       "3       142.98   1142.04  BUY  02-12-2024 22:50     1146.558564       Buy   \n",
       "4         8.73     69.75  BUY  02-12-2024 22:50     1289.488521       Buy   \n",
       "\n",
       "   Closed PnL                                   Transaction Hash     Order ID  \\\n",
       "0         0.0  0xec09451986a1874e3a980418412fcd0201f500c95bac...  52017706630   \n",
       "1         0.0  0xec09451986a1874e3a980418412fcd0201f500c95bac...  52017706630   \n",
       "2         0.0  0xec09451986a1874e3a980418412fcd0201f500c95bac...  52017706630   \n",
       "3         0.0  0xec09451986a1874e3a980418412fcd0201f500c95bac...  52017706630   \n",
       "4         0.0  0xec09451986a1874e3a980418412fcd0201f500c95bac...  52017706630   \n",
       "\n",
       "   Crossed       Fee      Trade ID     Timestamp  \n",
       "0     True  0.345404  8.950000e+14  1.730000e+12  \n",
       "1     True  0.005600  4.430000e+14  1.730000e+12  \n",
       "2     True  0.050431  6.600000e+14  1.730000e+12  \n",
       "3     True  0.050043  1.080000e+15  1.730000e+12  \n",
       "4     True  0.003055  1.050000e+15  1.730000e+12  "
      ]
     },
     "execution_count": 5,
     "metadata": {},
     "output_type": "execute_result"
    }
   ],
   "source": [
    "trades.head()"
   ]
  },
  {
   "cell_type": "code",
   "execution_count": 11,
   "id": "f7606177",
   "metadata": {},
   "outputs": [],
   "source": [
    "# 2. Convert dates to a comparable format\n",
    "sentiment[\"date_only\"] = pd.to_datetime(sentiment[\"date\"]).dt.date\n",
    "trades[\"trade_date\"] = pd.to_datetime(trades[\"Timestamp IST\"], format=\"%d-%m-%Y %H:%M\").dt.date"
   ]
  },
  {
   "cell_type": "code",
   "execution_count": 14,
   "id": "de6c73af",
   "metadata": {},
   "outputs": [
    {
     "data": {
      "text/plain": [
       "timestamp                  int64\n",
       "value                      int64\n",
       "classification            object\n",
       "date              datetime64[ns]\n",
       "date_only                 object\n",
       "dtype: object"
      ]
     },
     "execution_count": 14,
     "metadata": {},
     "output_type": "execute_result"
    }
   ],
   "source": [
    "sentiment.dtypes"
   ]
  },
  {
   "cell_type": "code",
   "execution_count": 15,
   "id": "d0bb2084",
   "metadata": {},
   "outputs": [
    {
     "data": {
      "text/plain": [
       "Account              object\n",
       "Coin                 object\n",
       "Execution Price     float64\n",
       "Size Tokens         float64\n",
       "Size USD            float64\n",
       "Side                 object\n",
       "Timestamp IST        object\n",
       "Start Position      float64\n",
       "Direction            object\n",
       "Closed PnL          float64\n",
       "Transaction Hash     object\n",
       "Order ID              int64\n",
       "Crossed                bool\n",
       "Fee                 float64\n",
       "Trade ID            float64\n",
       "Timestamp           float64\n",
       "trade_date           object\n",
       "dtype: object"
      ]
     },
     "execution_count": 15,
     "metadata": {},
     "output_type": "execute_result"
    }
   ],
   "source": [
    "trades.dtypes"
   ]
  },
  {
   "cell_type": "code",
   "execution_count": 16,
   "id": "fa04c60e",
   "metadata": {},
   "outputs": [],
   "source": [
    "# 3. Merge datasets on date\n",
    "data = trades.merge(sentiment[[\"date_only\", \"classification\"]], \n",
    "                    left_on=\"trade_date\", right_on=\"date_only\", how=\"left\")\n",
    "data.drop(columns=\"date_only\", inplace=True)"
   ]
  },
  {
   "cell_type": "code",
   "execution_count": 30,
   "id": "d8835f16",
   "metadata": {},
   "outputs": [
    {
     "data": {
      "text/html": [
       "<div>\n",
       "<style scoped>\n",
       "    .dataframe tbody tr th:only-of-type {\n",
       "        vertical-align: middle;\n",
       "    }\n",
       "\n",
       "    .dataframe tbody tr th {\n",
       "        vertical-align: top;\n",
       "    }\n",
       "\n",
       "    .dataframe thead th {\n",
       "        text-align: right;\n",
       "    }\n",
       "</style>\n",
       "<table border=\"1\" class=\"dataframe\">\n",
       "  <thead>\n",
       "    <tr style=\"text-align: right;\">\n",
       "      <th></th>\n",
       "      <th>Account</th>\n",
       "      <th>Coin</th>\n",
       "      <th>Execution Price</th>\n",
       "      <th>Size Tokens</th>\n",
       "      <th>Size USD</th>\n",
       "      <th>Side</th>\n",
       "      <th>Timestamp IST</th>\n",
       "      <th>Start Position</th>\n",
       "      <th>Direction</th>\n",
       "      <th>Closed PnL</th>\n",
       "      <th>Transaction Hash</th>\n",
       "      <th>Order ID</th>\n",
       "      <th>Crossed</th>\n",
       "      <th>Fee</th>\n",
       "      <th>Trade ID</th>\n",
       "      <th>Timestamp</th>\n",
       "      <th>trade_date</th>\n",
       "      <th>classification</th>\n",
       "      <th>trade_return</th>\n",
       "      <th>winner</th>\n",
       "    </tr>\n",
       "  </thead>\n",
       "  <tbody>\n",
       "    <tr>\n",
       "      <th>0</th>\n",
       "      <td>0xae5eacaf9c6b9111fd53034a602c192a04e082ed</td>\n",
       "      <td>@107</td>\n",
       "      <td>7.9769</td>\n",
       "      <td>986.87</td>\n",
       "      <td>7872.16</td>\n",
       "      <td>BUY</td>\n",
       "      <td>02-12-2024 22:50</td>\n",
       "      <td>0.000000</td>\n",
       "      <td>Buy</td>\n",
       "      <td>0.0</td>\n",
       "      <td>0xec09451986a1874e3a980418412fcd0201f500c95bac...</td>\n",
       "      <td>52017706630</td>\n",
       "      <td>True</td>\n",
       "      <td>0.345404</td>\n",
       "      <td>8.950000e+14</td>\n",
       "      <td>1.730000e+12</td>\n",
       "      <td>2024-12-02</td>\n",
       "      <td>Extreme Greed</td>\n",
       "      <td>0.0</td>\n",
       "      <td>False</td>\n",
       "    </tr>\n",
       "    <tr>\n",
       "      <th>1</th>\n",
       "      <td>0xae5eacaf9c6b9111fd53034a602c192a04e082ed</td>\n",
       "      <td>@107</td>\n",
       "      <td>7.9800</td>\n",
       "      <td>16.00</td>\n",
       "      <td>127.68</td>\n",
       "      <td>BUY</td>\n",
       "      <td>02-12-2024 22:50</td>\n",
       "      <td>986.524596</td>\n",
       "      <td>Buy</td>\n",
       "      <td>0.0</td>\n",
       "      <td>0xec09451986a1874e3a980418412fcd0201f500c95bac...</td>\n",
       "      <td>52017706630</td>\n",
       "      <td>True</td>\n",
       "      <td>0.005600</td>\n",
       "      <td>4.430000e+14</td>\n",
       "      <td>1.730000e+12</td>\n",
       "      <td>2024-12-02</td>\n",
       "      <td>Extreme Greed</td>\n",
       "      <td>0.0</td>\n",
       "      <td>False</td>\n",
       "    </tr>\n",
       "  </tbody>\n",
       "</table>\n",
       "</div>"
      ],
      "text/plain": [
       "                                      Account  Coin  Execution Price  \\\n",
       "0  0xae5eacaf9c6b9111fd53034a602c192a04e082ed  @107           7.9769   \n",
       "1  0xae5eacaf9c6b9111fd53034a602c192a04e082ed  @107           7.9800   \n",
       "\n",
       "   Size Tokens  Size USD Side     Timestamp IST  Start Position Direction  \\\n",
       "0       986.87   7872.16  BUY  02-12-2024 22:50        0.000000       Buy   \n",
       "1        16.00    127.68  BUY  02-12-2024 22:50      986.524596       Buy   \n",
       "\n",
       "   Closed PnL                                   Transaction Hash     Order ID  \\\n",
       "0         0.0  0xec09451986a1874e3a980418412fcd0201f500c95bac...  52017706630   \n",
       "1         0.0  0xec09451986a1874e3a980418412fcd0201f500c95bac...  52017706630   \n",
       "\n",
       "   Crossed       Fee      Trade ID     Timestamp  trade_date classification  \\\n",
       "0     True  0.345404  8.950000e+14  1.730000e+12  2024-12-02  Extreme Greed   \n",
       "1     True  0.005600  4.430000e+14  1.730000e+12  2024-12-02  Extreme Greed   \n",
       "\n",
       "   trade_return  winner  \n",
       "0           0.0   False  \n",
       "1           0.0   False  "
      ]
     },
     "execution_count": 30,
     "metadata": {},
     "output_type": "execute_result"
    }
   ],
   "source": [
    "data.head(2)"
   ]
  },
  {
   "cell_type": "code",
   "execution_count": 17,
   "id": "e7a3a7d8",
   "metadata": {},
   "outputs": [],
   "source": [
    "# 4. Calculate per-trade return metrics\n",
    "# Size USD already given, so return = Closed PnL / Size USD\n",
    "data[\"trade_return\"] = data[\"Closed PnL\"] / data[\"Size USD\"]\n",
    "data[\"winner\"] = data[\"Closed PnL\"] > 0\n"
   ]
  },
  {
   "cell_type": "code",
   "execution_count": 18,
   "id": "0c610b63",
   "metadata": {},
   "outputs": [
    {
     "name": "stdout",
     "output_type": "stream",
     "text": [
      "=== Performance by Sentiment ===\n",
      "  classification  avg_return  win_rate     total_pnl  avg_trade_usd  \\\n",
      "0   Extreme Fear    0.004321  0.370607  7.391102e+05    5349.731843   \n",
      "1  Extreme Greed    0.040027  0.464943  2.715171e+06    3112.251565   \n",
      "2           Fear    0.015412  0.420768  3.357155e+06    7816.109931   \n",
      "3          Greed    0.019653  0.384828  2.150129e+06    5736.884375   \n",
      "4        Neutral    0.009936  0.396991  1.292921e+06    4782.732661   \n",
      "\n",
      "   trade_count  \n",
      "0        21400  \n",
      "1        39980  \n",
      "2        61826  \n",
      "3        50283  \n",
      "4        37686  \n"
     ]
    }
   ],
   "source": [
    "# 5. Performance by sentiment\n",
    "perf_sent = data.groupby(\"classification\").agg(\n",
    "    avg_return   = (\"trade_return\", \"mean\"),\n",
    "    win_rate     = (\"winner\", \"mean\"),\n",
    "    total_pnl    = (\"Closed PnL\", \"sum\"),\n",
    "    avg_trade_usd= (\"Size USD\", \"mean\"),\n",
    "    trade_count  = (\"trade_return\", \"count\")\n",
    ").reset_index()\n",
    "\n",
    "print(\"=== Performance by Sentiment ===\")\n",
    "print(perf_sent)\n"
   ]
  },
  {
   "cell_type": "code",
   "execution_count": 19,
   "id": "0d40949f",
   "metadata": {},
   "outputs": [],
   "source": [
    "# 6. Performance by trader & sentiment\n",
    "perf_trader_sent = data.groupby([\"Account\", \"classification\"]).agg(\n",
    "    total_pnl  = (\"Closed PnL\", \"sum\"),\n",
    "    avg_return = (\"trade_return\", \"mean\"),\n",
    "    win_rate   = (\"winner\", \"mean\")\n",
    ").reset_index()\n"
   ]
  },
  {
   "cell_type": "code",
   "execution_count": 20,
   "id": "fadbdb2a",
   "metadata": {},
   "outputs": [
    {
     "name": "stdout",
     "output_type": "stream",
     "text": [
      "\n",
      "=== Top 5 Traders in Fear ===\n",
      "                                        Account     total_pnl  win_rate\n",
      "2    0x083384f897ee0f19899168e3b1bec365f52a9012  1.113374e+06  0.526434\n",
      "143  0xbaaaf6571ab7d571043ff1e313a9609a10637864  6.208724e+05  0.498271\n",
      "67   0x513b8629fe877bb581bf244e326a047b249c4ff1  3.671662e+05  0.370507\n",
      "57   0x4acb90e786d897ecffb614dc822eb231b4ffb9f4  2.967817e+05  0.409026\n",
      "142  0xbaaaf6571ab7d571043ff1e313a9609a10637864  2.619180e+05  0.379464\n",
      "\n",
      "=== Top 5 Traders in Greed ===\n",
      "                                        Account     total_pnl  win_rate\n",
      "135  0xb1231a4a2dd02f2276fa3c5e2a2f3436e6bfed23  1.105305e+06  0.510043\n",
      "137  0xb1231a4a2dd02f2276fa3c5e2a2f3436e6bfed23  5.340582e+05  0.273221\n",
      "152  0xbee1707d6b44d4d52bfe19e41f8a828645437aab  4.788115e+05  0.596311\n",
      "78   0x72743ae2822edd658c0c50608fd7c5c501b2afbd  4.535953e+05  0.317032\n",
      "3    0x083384f897ee0f19899168e3b1bec365f52a9012  2.767193e+05  0.160279\n"
     ]
    }
   ],
   "source": [
    "# 7. Identify top traders in Fear & Greed\n",
    "top_fear = perf_trader_sent[perf_trader_sent[\"classification\"].str.contains(\"Fear\", case=False)].nlargest(5, \"total_pnl\")\n",
    "top_greed = perf_trader_sent[perf_trader_sent[\"classification\"].str.contains(\"Greed\", case=False)].nlargest(5, \"total_pnl\")\n",
    "\n",
    "print(\"\\n=== Top 5 Traders in Fear ===\")\n",
    "print(top_fear[[\"Account\", \"total_pnl\", \"win_rate\"]])\n",
    "\n",
    "print(\"\\n=== Top 5 Traders in Greed ===\")\n",
    "print(top_greed[[\"Account\", \"total_pnl\", \"win_rate\"]])"
   ]
  },
  {
   "cell_type": "code",
   "execution_count": 21,
   "id": "09f34522",
   "metadata": {},
   "outputs": [
    {
     "data": {
      "image/png": "[encoded data removed]",
      "text/plain": [
       "<Figure size 800x500 with 1 Axes>"
      ]
     },
     "metadata": {},
     "output_type": "display_data"
    }
   ],
   "source": [
    "# 8. Visualizations\n",
    "plt.figure(figsize=(8,5))\n",
    "plt.bar(perf_sent[\"classification\"], perf_sent[\"avg_return\"], color=\"orange\")\n",
    "plt.title(\"Average Trade Return by Sentiment\")\n",
    "plt.ylabel(\"Average Return\")\n",
    "plt.xticks(rotation=45)\n",
    "plt.show()\n"
   ]
  },
  {
   "cell_type": "code",
   "execution_count": 27,
   "id": "b3655957",
   "metadata": {},
   "outputs": [
    {
     "data": {
      "image/png": "[encoded data removed]",
      "text/plain": [
       "<Figure size 700x500 with 1 Axes>"
      ]
     },
     "metadata": {},
     "output_type": "display_data"
    }
   ],
   "source": [
    "plt.figure(figsize=(7,5))\n",
    "plt.bar(perf_sent[\"classification\"], perf_sent[\"win_rate\"], color=\"skyblue\")\n",
    "plt.title(\"Win Rate by Sentiment\")\n",
    "plt.ylabel(\"Win Rate\")\n",
    "plt.xticks(rotation=45)\n",
    "plt.show()"
   ]
  },
  {
   "cell_type": "code",
   "execution_count": null,
   "id": "ac282428",
   "metadata": {},
   "outputs": [],
   "source": [
    "# 9. Quick insights\n",
    "best_sent = perf_sent.loc[perf_sent[\"avg_return\"].idxmax(), \"classification\"]\n",
    "worst_sent = perf_sent.loc[perf_sent[\"avg_return\"].idxmin(), \"classification\"]\n"
   ]
  },
  {
   "cell_type": "code",
   "execution_count": 29,
   "id": "6e464dac",
   "metadata": {},
   "outputs": [
    {
     "name": "stdout",
     "output_type": "stream",
     "text": [
      "\n",
      "=== Insights & Strategy Suggestions ===\n",
      "1. Trades perform BEST during 'Extreme Greed' and WORST during 'Extreme Fear'.\n",
      "2. Focus on increasing trade frequency during best performing sentiment.\n",
      "3. Reduce trade size or avoid trading during worst sentiment to limit losses.\n",
      "4. Top Fear traders may be exploiting panic selling; study their strategies.\n",
      "5. Top Greed traders may ride momentum; test trend following in such periods.\n"
     ]
    }
   ],
   "source": [
    "print(\"\\n=== Insights & Strategy Suggestions ===\")\n",
    "print(f\"1. Trades perform BEST during '{best_sent}' and WORST during '{worst_sent}'.\")\n",
    "print(\"2. Focus on increasing trade frequency during best performing sentiment.\")\n",
    "print(\"3. Reduce trade size or avoid trading during worst sentiment to limit losses.\")\n",
    "print(\"4. Top Fear traders may be exploiting panic selling; study their strategies.\")\n",
    "print(\"5. Top Greed traders may ride momentum; test trend following in such periods.\")"
   ]
  }
 ],
 "metadata": {
  "kernelspec": {
   "display_name": ".conda",
   "language": "python",
   "name": "python3"
  },
  "language_info": {
   "codemirror_mode": {
    "name": "ipython",
    "version": 3
   },
   "file_extension": ".py",
   "mimetype": "text/x-python",
   "name": "python",
   "nbconvert_exporter": "python",
   "pygments_lexer": "ipython3",
   "version": "3.12.9"
  }
 },
 "nbformat": 4,
 "nbformat_minor": 5
}
